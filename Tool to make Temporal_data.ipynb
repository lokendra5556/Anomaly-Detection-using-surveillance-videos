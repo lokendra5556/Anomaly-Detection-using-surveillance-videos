{
 "cells": [
  {
   "cell_type": "code",
   "execution_count": null,
   "metadata": {
    "id": "UfeUidBlHVwl"
   },
   "outputs": [],
   "source": [
    "import pandas as pd\n",
    "import numpy as np\n",
    "import cv2\n",
    "import os\n",
    "from tkinter import *\n",
    "from PIL import Image,ImageTk, Image \n",
    "import time\n",
    "from tqdm import tqdm"
   ]
  },
  {
   "cell_type": "code",
   "execution_count": null,
   "metadata": {
    "id": "aHL1NTzWHVww"
   },
   "outputs": [],
   "source": [
    "#df=pd.DataFrame(columns=['video_name','cat','start_1','stop_1','start_2','stop_2'])\n",
    "df = pd.read_csv(\"fighting.csv\")"
   ]
  },
  {
   "cell_type": "code",
   "execution_count": null,
   "metadata": {
    "id": "2ngRhtjbHVwx"
   },
   "outputs": [],
   "source": [
    "folder = 'F:/AI_ML/C-DAC/Project Material/UCF_Crime_Dataset/Anomaly-Videos-Part-4/Fighting'\n"
   ]
  },
  {
   "cell_type": "code",
   "execution_count": null,
   "metadata": {
    "id": "-zq4chcbHVwx"
   },
   "outputs": [],
   "source": [
    "s=0.05\n",
    "i=0"
   ]
  },
  {
   "cell_type": "code",
   "execution_count": null,
   "metadata": {
    "id": "hzFh0rghHVwy"
   },
   "outputs": [],
   "source": [
    "def saveSeries2DF(series):\n",
    "    global df\n",
    "    if series['video_name'] not in df.video_name.values:\n",
    "        df=df.append(series,ignore_index=True)\n",
    "\n",
    "def tool(v_name):\n",
    "    global i\n",
    "    i=0\n",
    "    def start():\n",
    "        global i\n",
    "        if series['start_1']==-1:\n",
    "            series['start_1']=i\n",
    "            print(series)\n",
    "        else:\n",
    "            series['start_2']=i\n",
    "            \n",
    "            print(series)\n",
    "\n",
    "    def stop():\n",
    "        global i\n",
    "        if series['stop_1']==-1:\n",
    "            series['stop_1']=i\n",
    "            print(series)\n",
    "\n",
    "        else:\n",
    "            series['stop_2']=i\n",
    "            print(series)\n",
    "            \n",
    "    def minus():\n",
    "        global s\n",
    "        s+=0.01\n",
    "\n",
    "            \n",
    "    def plus():\n",
    "        global s\n",
    "        if s>0.01:\n",
    "            s-=0.01\n",
    "        else:\n",
    "            s=0\n",
    "    \n",
    "    \n",
    "    cap = cv2.VideoCapture(folder + '/' +v_name)\n",
    "    length = int(cap.get(cv2.CAP_PROP_FRAME_COUNT))\n",
    "\n",
    "\n",
    "    series=({'video_name':v_name,'cat':re.findall('[A-Z][a-z]*',v_name)[0],'start_1':-1,\n",
    "                'stop_1':-1,'start_2':-1,'stop_2':-1})\n",
    "    root = Tk()\n",
    "    root.title('Tool')\n",
    "    app = Frame(root, bg=\"white\")\n",
    "    app.grid()\n",
    "    lmain = Label(app)\n",
    "    FC=Label(text=str(i)+'/'+str(length))\n",
    "    lmain.grid(row=1, column=0, columnspan=3) \n",
    "    FC.grid(row=1,column=1,columnspan=3)\n",
    "    lmain.grid()\n",
    "\n",
    "\n",
    "    start_button = Button(root, text=\"start\",command=lambda:start()) \n",
    "\n",
    "    stop_button = Button(root, text=\"stop\",command=lambda:stop()) \n",
    "    \n",
    "    minus_button = Button(root, text=\"-\",command=lambda:minus()) \n",
    "    \n",
    "    plus_button = Button(root, text=\"+\",command=lambda:plus()) \n",
    "\n",
    "\n",
    "    start_button.grid(row=5, column=1) \n",
    "    stop_button.grid(row=5, column=2) \n",
    "    minus_button.grid(row=4, column=1) \n",
    "    plus_button.grid(row=4, column=2) \n",
    "\n",
    "    def video_stream():\n",
    "        global i,lenght\n",
    "        i+=1\n",
    "        _, frame = cap.read()\n",
    "        cv2image = cv2.cvtColor(frame, cv2.COLOR_BGR2RGBA)\n",
    "        img = Image.fromarray(cv2image)\n",
    "        imgtk = ImageTk.PhotoImage(image=img)\n",
    "        lmain.imgtk = imgtk\n",
    "        lmain.configure(image=imgtk)\n",
    "        FC.configure(text=str(i)+'/'+str(length))\n",
    "        time.sleep(s)\n",
    "        lmain.after(1, video_stream) \n",
    "    video_stream()\n",
    "    root.mainloop()\n",
    "    return(series)"
   ]
  },
  {
   "cell_type": "code",
   "execution_count": null,
   "metadata": {
    "id": "Kb8MVHcNHVwz",
    "scrolled": true
   },
   "outputs": [],
   "source": [
    "videos=os.listdir(folder)\n",
    "print('length : ',len(videos))\n",
    "videos"
   ]
  },
  {
   "cell_type": "code",
   "execution_count": null,
   "metadata": {
    "id": "JEWXhsk9HduN"
   },
   "outputs": [],
   "source": [
    "series=tool(videos[10])"
   ]
  },
  {
   "cell_type": "code",
   "execution_count": null,
   "metadata": {
    "id": "egYSBjXMHVw1"
   },
   "outputs": [],
   "source": [
    "saveSeries2DF(series)"
   ]
  },
  {
   "cell_type": "code",
   "execution_count": null,
   "metadata": {
    "id": "ItEfHpfhHVw1"
   },
   "outputs": [],
   "source": [
    "df"
   ]
  },
  {
   "cell_type": "code",
   "execution_count": null,
   "metadata": {
    "id": "F5Cte03qHVw3"
   },
   "outputs": [],
   "source": [
    "df.to_csv('Fighting.csv', index = False)"
   ]
  },
  {
   "cell_type": "code",
   "execution_count": null,
   "metadata": {
    "id": "L3wtkBZ0HVw4"
   },
   "outputs": [],
   "source": []
  }
 ],
 "metadata": {
  "colab": {
   "name": "1_Make_Temporal_data.ipynb",
   "provenance": []
  },
  "kernelspec": {
   "display_name": "Python 3",
   "language": "python",
   "name": "python3"
  },
  "language_info": {
   "codemirror_mode": {
    "name": "ipython",
    "version": 3
   },
   "file_extension": ".py",
   "mimetype": "text/x-python",
   "name": "python",
   "nbconvert_exporter": "python",
   "pygments_lexer": "ipython3",
   "version": "3.6.10"
  },
  "toc": {
   "base_numbering": 1,
   "nav_menu": {},
   "number_sections": true,
   "sideBar": true,
   "skip_h1_title": false,
   "title_cell": "Table of Contents",
   "title_sidebar": "Contents",
   "toc_cell": false,
   "toc_position": {},
   "toc_section_display": true,
   "toc_window_display": false
  },
  "varInspector": {
   "cols": {
    "lenName": 16,
    "lenType": 16,
    "lenVar": 40
   },
   "kernels_config": {
    "python": {
     "delete_cmd_postfix": "",
     "delete_cmd_prefix": "del ",
     "library": "var_list.py",
     "varRefreshCmd": "print(var_dic_list())"
    },
    "r": {
     "delete_cmd_postfix": ") ",
     "delete_cmd_prefix": "rm(",
     "library": "var_list.r",
     "varRefreshCmd": "cat(var_dic_list()) "
    }
   },
   "types_to_exclude": [
    "module",
    "function",
    "builtin_function_or_method",
    "instance",
    "_Feature"
   ],
   "window_display": false
  }
 },
 "nbformat": 4,
 "nbformat_minor": 4
}
